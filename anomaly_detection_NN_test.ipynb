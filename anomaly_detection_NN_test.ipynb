{
 "cells": [
  {
   "cell_type": "markdown",
   "metadata": {
    "colab": {
     "base_uri": "https://localhost:8080/",
     "height": 34
    },
    "colab_type": "code",
    "executionInfo": {
     "elapsed": 267,
     "status": "ok",
     "timestamp": 1582553855889,
     "user": {
      "displayName": "ww Liu",
      "photoUrl": "https://lh3.googleusercontent.com/a-/AAuE7mDVzxXohrxCgumWlydpQP4VwAUiFjVBRic3DWpm=s64",
      "userId": "12755974824892555170"
     },
     "user_tz": 480
    },
    "id": "sPR-r_PCZFrG",
    "outputId": "5f28dc8e-a280-4b5a-b6b8-f6246b899687"
   },
   "source": [
    "Use this file to test new data"
   ]
  },
  {
   "cell_type": "markdown",
   "metadata": {},
   "source": [
    "### import libraries"
   ]
  },
  {
   "cell_type": "code",
   "execution_count": 3,
   "metadata": {
    "colab": {
     "base_uri": "https://localhost:8080/",
     "height": 51
    },
    "colab_type": "code",
    "executionInfo": {
     "elapsed": 2688,
     "status": "ok",
     "timestamp": 1582553860392,
     "user": {
      "displayName": "ww Liu",
      "photoUrl": "https://lh3.googleusercontent.com/a-/AAuE7mDVzxXohrxCgumWlydpQP4VwAUiFjVBRic3DWpm=s64",
      "userId": "12755974824892555170"
     },
     "user_tz": 480
    },
    "id": "oGz5MCScZHPx",
    "outputId": "04dbd0f1-fa88-4cfc-97dd-4a7c0715b54f"
   },
   "outputs": [],
   "source": [
    "import os\n",
    "import time\n",
    "import sys\n",
    "import numpy as np\n",
    "import pandas as pd\n",
    "import re\n",
    "\n",
    "from sklearn.model_selection import train_test_split\n",
    "import matplotlib.pyplot as plt\n",
    "\n",
    "try:\n",
    "  # %tensorflow_version only exists in Colab.\n",
    "  %tensorflow_version 2.x\n",
    "except Exception:\n",
    "    pass\n",
    "import tensorflow as tf\n",
    "\n",
    "import keras"
   ]
  },
  {
   "cell_type": "code",
   "execution_count": 4,
   "metadata": {
    "colab": {},
    "colab_type": "code",
    "id": "nKRZYrOsZPBj"
   },
   "outputs": [],
   "source": [
    "#sys.path.append('path/to/model.py')\n",
    "\n",
    "from model import *\n",
    "from utils import *"
   ]
  },
  {
   "cell_type": "markdown",
   "metadata": {},
   "source": [
    "### import tokenizer"
   ]
  },
  {
   "cell_type": "code",
   "execution_count": 5,
   "metadata": {
    "colab": {},
    "colab_type": "code",
    "id": "y0NhZqCmgxuX"
   },
   "outputs": [],
   "source": [
    "import pickle\n",
    "\n",
    "# loading\n",
    "with open('./tokenizer.pickle', 'rb') as handle:\n",
    "    seq_tokenizer = pickle.load(handle)"
   ]
  },
  {
   "cell_type": "markdown",
   "metadata": {},
   "source": [
    "### Define model"
   ]
  },
  {
   "cell_type": "code",
   "execution_count": 6,
   "metadata": {
    "colab": {},
    "colab_type": "code",
    "id": "2stKAH1hhsYL"
   },
   "outputs": [],
   "source": [
    "BATCH_SIZE = 256\n",
    "embedding_dim = 64\n",
    "units = 128\n",
    "vocab_inp_size = len(seq_tokenizer.word_index)+1\n",
    "vocab_tar_size = len(seq_tokenizer.word_index)+1\n",
    "\n",
    "encoder = Encoder(vocab_inp_size, embedding_dim, units, BATCH_SIZE)\n",
    "decoder = Decoder(vocab_tar_size, embedding_dim, units, BATCH_SIZE)\n",
    "\n",
    "optimizer = tf.keras.optimizers.Adam(lr=0.05, beta_1=0.9, beta_2=0.999, decay=0.01)\n",
    "checkpoint = tf.train.Checkpoint(optimizer=optimizer,\n",
    "                                 encoder=encoder,\n",
    "                                 decoder=decoder)"
   ]
  },
  {
   "cell_type": "markdown",
   "metadata": {},
   "source": [
    "### Load in new test data\n",
    "\n",
    "* **change to directory where the new test data is**"
   ]
  },
  {
   "cell_type": "code",
   "execution_count": 7,
   "metadata": {
    "colab": {},
    "colab_type": "code",
    "id": "JM5yhsBDZRXG"
   },
   "outputs": [],
   "source": [
    "## read in csv file as dataframe\n",
    "df=pd.read_csv('../dataset/AnomalyDetectionChallenge/hexacopter-hil-clean-01.kev.csv')"
   ]
  },
  {
   "cell_type": "markdown",
   "metadata": {},
   "source": [
    "### Process data"
   ]
  },
  {
   "cell_type": "code",
   "execution_count": 8,
   "metadata": {
    "colab": {
     "base_uri": "https://localhost:8080/",
     "height": 34
    },
    "colab_type": "code",
    "executionInfo": {
     "elapsed": 1094,
     "status": "ok",
     "timestamp": 1582553875745,
     "user": {
      "displayName": "ww Liu",
      "photoUrl": "https://lh3.googleusercontent.com/a-/AAuE7mDVzxXohrxCgumWlydpQP4VwAUiFjVBRic3DWpm=s64",
      "userId": "12755974824892555170"
     },
     "user_tz": 480
    },
    "id": "qgCkef46Zasw",
    "outputId": "bb2c1b60-2116-4519-b137-6d429daa1eca"
   },
   "outputs": [
    {
     "name": "stdout",
     "output_type": "stream",
     "text": [
      "number of training examples: 136011\n"
     ]
    }
   ],
   "source": [
    "X=[]\n",
    "Y=[]\n",
    "for i in range(1):\n",
    "    data=df[['class','event']]\n",
    "    data=list(data['class']+data['event'])\n",
    "    inp,tar=build_data(data,5,5)\n",
    "    X=X+inp\n",
    "    Y=Y+tar"
   ]
  },
  {
   "cell_type": "code",
   "execution_count": 9,
   "metadata": {
    "colab": {},
    "colab_type": "code",
    "id": "84ndnirhZj6t"
   },
   "outputs": [],
   "source": [
    "input_tensor_train, target_tensor_train = load_dataset(X, Y, seq_tokenizer)"
   ]
  },
  {
   "cell_type": "markdown",
   "metadata": {},
   "source": [
    "### load in trained weights"
   ]
  },
  {
   "cell_type": "code",
   "execution_count": 15,
   "metadata": {
    "colab": {
     "base_uri": "https://localhost:8080/",
     "height": 34
    },
    "colab_type": "code",
    "executionInfo": {
     "elapsed": 384,
     "status": "ok",
     "timestamp": 1582553891928,
     "user": {
      "displayName": "ww Liu",
      "photoUrl": "https://lh3.googleusercontent.com/a-/AAuE7mDVzxXohrxCgumWlydpQP4VwAUiFjVBRic3DWpm=s64",
      "userId": "12755974824892555170"
     },
     "user_tz": 480
    },
    "id": "ouGufa2LaPzd",
    "outputId": "1e0590d8-ef37-4bcc-e857-ffa7a973da26"
   },
   "outputs": [
    {
     "data": {
      "text/plain": [
       "<tensorflow.python.training.tracking.util.InitializationOnlyStatus at 0x14dea7ac8>"
      ]
     },
     "execution_count": 15,
     "metadata": {},
     "output_type": "execute_result"
    }
   ],
   "source": [
    "checkpoint_dir = './sumitmodel_checkpoint'\n",
    "checkpoint.restore(tf.train.latest_checkpoint(checkpoint_dir))"
   ]
  },
  {
   "cell_type": "code",
   "execution_count": 11,
   "metadata": {
    "colab": {},
    "colab_type": "code",
    "id": "lhdrruZ0aldY"
   },
   "outputs": [],
   "source": [
    "def evaluate(input):\n",
    "\n",
    "    inputs = tf.convert_to_tensor(input)\n",
    "\n",
    "      #result = ''\n",
    "    result=[]\n",
    "\n",
    "    hidden = [tf.zeros((len(input),units))]\n",
    "    enc_out, enc_hidden = encoder(inputs, hidden)\n",
    "\n",
    "    dec_hidden = enc_hidden\n",
    "    dec_input = tf.expand_dims([seq_tokenizer.word_index['<start>']]*len(input), 1)\n",
    "\n",
    "    for t in range(input.shape[1]-1):\n",
    "        predictions, dec_hidden, _ = decoder(dec_input, dec_hidden, enc_out)\n",
    "\n",
    "        predicted_id = tf.argmax(predictions,axis=1).numpy()\n",
    "\n",
    "        #result += targ_seq.index_word[predicted_id] + ' '\n",
    "\n",
    "        result.append(predicted_id)\n",
    "\n",
    "        # the predicted ID is fed back into the model\n",
    "        dec_input = tf.expand_dims(predicted_id, 1)\n",
    "\n",
    "    return result"
   ]
  },
  {
   "cell_type": "markdown",
   "metadata": {},
   "source": [
    "### predict output"
   ]
  },
  {
   "cell_type": "markdown",
   "metadata": {},
   "source": [
    "With 5 events as one sequence, and evaluate the misclassfication rate every 200 sequences or every 1000 events."
   ]
  },
  {
   "cell_type": "code",
   "execution_count": 37,
   "metadata": {
    "colab": {
     "base_uri": "https://localhost:8080/",
     "height": 102
    },
    "colab_type": "code",
    "executionInfo": {
     "elapsed": 557,
     "status": "ok",
     "timestamp": 1582553898658,
     "user": {
      "displayName": "ww Liu",
      "photoUrl": "https://lh3.googleusercontent.com/a-/AAuE7mDVzxXohrxCgumWlydpQP4VwAUiFjVBRic3DWpm=s64",
      "userId": "12755974824892555170"
     },
     "user_tz": 480
    },
    "id": "uQxgQY6jau_A",
    "outputId": "8261dd82-0e33-49a0-b905-70bb2775b431"
   },
   "outputs": [],
   "source": [
    "s=200\n",
    "\n",
    "predicts=evaluate(input_tensor_train[:s,:])\n",
    "\n",
    "predicts=np.array(predicts).swapaxes(0,1)\n",
    "\n",
    "targets=target_tensor_train[:s,1:]"
   ]
  },
  {
   "cell_type": "code",
   "execution_count": 42,
   "metadata": {},
   "outputs": [
    {
     "name": "stdout",
     "output_type": "stream",
     "text": [
      "This is NOT an anomaly sequence series\n"
     ]
    }
   ],
   "source": [
    "misclassification_rate=np.sum(np.sum(np.not_equal(targets, predicts)))/s/5\n",
    "\n",
    "## see 'anomaly_detection_NN_train' notebook for how I set bar value.\n",
    "bar=0.365\n",
    "\n",
    "if misclassification_rate>bar:\n",
    "    print('This sequence series is an anomaly')\n",
    "else:\n",
    "    print('This is NOT an anomaly sequence series')"
   ]
  },
  {
   "cell_type": "code",
   "execution_count": null,
   "metadata": {},
   "outputs": [],
   "source": []
  }
 ],
 "metadata": {
  "colab": {
   "authorship_tag": "ABX9TyOn3BJ5IranAcx0PJSV9aY1",
   "name": "test.ipynb",
   "provenance": []
  },
  "kernelspec": {
   "display_name": "Python 3",
   "language": "python",
   "name": "python3"
  },
  "language_info": {
   "codemirror_mode": {
    "name": "ipython",
    "version": 3
   },
   "file_extension": ".py",
   "mimetype": "text/x-python",
   "name": "python",
   "nbconvert_exporter": "python",
   "pygments_lexer": "ipython3",
   "version": "3.7.3"
  }
 },
 "nbformat": 4,
 "nbformat_minor": 1
}
